{
 "cells": [
  {
   "cell_type": "code",
   "execution_count": 2,
   "metadata": {
    "collapsed": true
   },
   "outputs": [],
   "source": [
    "import cv2\n",
    "import os\n",
    "import numpy as np"
   ]
  },
  {
   "cell_type": "code",
   "execution_count": 3,
   "metadata": {
    "collapsed": true
   },
   "outputs": [],
   "source": [
    "unlabeled_imgs_path = './temp'\n",
    "data_path = './data/xview'\n",
    "image_name = '322.tif'\n",
    "mask_name = '322_car_22'"
   ]
  },
  {
   "cell_type": "code",
   "execution_count": 4,
   "metadata": {
    "collapsed": true
   },
   "outputs": [],
   "source": [
    "def remove_files(mydir, extension=None):\n",
    "    if extension!=None:\n",
    "        filelist = [ f for f in os.listdir(mydir) if f.endswith(extension) ]\n",
    "    else:\n",
    "        filelist = [ f for f in os.listdir(mydir)]\n",
    "    for f in filelist:\n",
    "        os.remove(os.path.join(mydir, f))\n",
    "        \n",
    "def create_folder(path):\n",
    "    if not os.path.exists(path):\n",
    "        os.makedirs(path)"
   ]
  },
  {
   "cell_type": "code",
   "execution_count": 5,
   "metadata": {},
   "outputs": [
    {
     "name": "stdout",
     "output_type": "stream",
     "text": [
      "(3063, 4764, 3) (3063, 4764)\n"
     ]
    }
   ],
   "source": [
    "image = cv2.imread(os.path.join(data_path, image_name))\n",
    "mask = cv2.imread(os.path.join(data_path, mask_name+'_label.jpeg'), 0) / 255\n",
    "print(image.shape, mask.shape)"
   ]
  },
  {
   "cell_type": "code",
   "execution_count": 6,
   "metadata": {
    "collapsed": true
   },
   "outputs": [],
   "source": [
    "stride = 10\n",
    "win_size = 20"
   ]
  },
  {
   "cell_type": "code",
   "execution_count": 7,
   "metadata": {},
   "outputs": [
    {
     "name": "stdout",
     "output_type": "stream",
     "text": [
      "done to write cropped images in  ./temp\n"
     ]
    }
   ],
   "source": [
    "remove_files(unlabeled_imgs_path)\n",
    "for row in range(0,mask.shape[0]-win_size,stride):\n",
    "    for col in range(0,mask.shape[1]-win_size,stride):\n",
    "        sub_mask = mask[row:row+win_size, col:col+win_size]\n",
    "        if np.count_nonzero(sub_mask) == win_size*win_size:\n",
    "            sub_img = image[row:row+win_size, col:col+win_size]\n",
    "            cv2.imwrite(os.path.join(unlabeled_imgs_path, str(row)+'_'+str(col)+'.png'), sub_img)\n",
    "print('done to write cropped images in ', unlabeled_imgs_path)"
   ]
  },
  {
   "cell_type": "markdown",
   "metadata": {},
   "source": [
    "## pick up pos & neg samples"
   ]
  },
  {
   "cell_type": "code",
   "execution_count": 8,
   "metadata": {
    "collapsed": true
   },
   "outputs": [],
   "source": [
    "from shutil import copyfile\n",
    "\n",
    "pos_names = ['1580_2360','1570_2380','1560_2370','1540_3280','1540_3310']\n",
    "neg_names = ['1570_2980','1600_2180','1570_2160','1660_2330','1540_3030']\n",
    "\n",
    "pos_folder_path = os.path.join(data_path, mask_name+'_samples', 'positive')\n",
    "neg_folder_path = os.path.join(data_path, mask_name+'_samples', 'negative')\n",
    "\n",
    "create_folder(pos_folder_path)\n",
    "create_folder(neg_folder_path)\n",
    "\n",
    "for img_name in pos_names:\n",
    "    src = os.path.join(unlabeled_imgs_path, img_name+'.png')\n",
    "    dst = os.path.join(pos_folder_path, img_name+'.png')\n",
    "    copyfile(src, dst)\n",
    "    \n",
    "for img_name in neg_names:\n",
    "    src = os.path.join(unlabeled_imgs_path, img_name+'.png')\n",
    "    dst = os.path.join(neg_folder_path, img_name+'.png')\n",
    "    copyfile(src, dst)"
   ]
  },
  {
   "cell_type": "code",
   "execution_count": null,
   "metadata": {
    "collapsed": true
   },
   "outputs": [],
   "source": []
  }
 ],
 "metadata": {
  "kernelspec": {
   "display_name": "Python 3",
   "language": "python",
   "name": "python3"
  },
  "language_info": {
   "codemirror_mode": {
    "name": "ipython",
    "version": 3
   },
   "file_extension": ".py",
   "mimetype": "text/x-python",
   "name": "python",
   "nbconvert_exporter": "python",
   "pygments_lexer": "ipython3",
   "version": "3.5.2"
  }
 },
 "nbformat": 4,
 "nbformat_minor": 2
}
