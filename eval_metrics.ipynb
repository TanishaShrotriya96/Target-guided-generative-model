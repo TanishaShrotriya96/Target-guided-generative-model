{
 "cells": [
  {
   "cell_type": "code",
   "execution_count": 25,
   "metadata": {
    "collapsed": true
   },
   "outputs": [],
   "source": [
    "import numpy as np\n",
    "import cv2, os"
   ]
  },
  {
   "cell_type": "markdown",
   "metadata": {},
   "source": [
    "## Load Ground Truth Points"
   ]
  },
  {
   "cell_type": "code",
   "execution_count": 26,
   "metadata": {},
   "outputs": [
    {
     "name": "stdout",
     "output_type": "stream",
     "text": [
      "(274, 2)\n"
     ]
    }
   ],
   "source": [
    "directory = './data/xview'\n",
    "region_name = '322_car_1'\n",
    "grid_size = 20\n",
    "\n",
    "gt_file = os.path.join(directory, region_name+'_gt.txt')\n",
    "gt_points = np.loadtxt(gt_file, dtype='int32', delimiter=',')\n",
    "print(gt_points.shape)"
   ]
  },
  {
   "cell_type": "markdown",
   "metadata": {},
   "source": [
    "## Load Predicted Points"
   ]
  },
  {
   "cell_type": "code",
   "execution_count": 27,
   "metadata": {},
   "outputs": [
    {
     "name": "stdout",
     "output_type": "stream",
     "text": [
      "(850, 2)\n"
     ]
    }
   ],
   "source": [
    "pred_file = os.path.join(directory, region_name+'_points_pred.txt')\n",
    "pred_points = np.loadtxt(pred_file, dtype='int32', delimiter=',')\n",
    "print(pred_points.shape)"
   ]
  },
  {
   "cell_type": "markdown",
   "metadata": {},
   "source": [
    "## Generate True Pos & True Neg Grids"
   ]
  },
  {
   "cell_type": "code",
   "execution_count": 28,
   "metadata": {},
   "outputs": [
    {
     "name": "stdout",
     "output_type": "stream",
     "text": [
      "193 36221\n"
     ]
    }
   ],
   "source": [
    "offset = grid_size # the gt point is in the grid\n",
    "\n",
    "mask = cv2.imread(os.path.join(directory, region_name+'_label.jpeg'),0)\n",
    "# mask = cv2.imread('./data/xview/322_car_1_label.jpeg', 0)\n",
    "true_pos_grids = []\n",
    "true_neg_grids = []\n",
    "\n",
    "for row in range(0,mask.shape[0]-grid_size,grid_size):\n",
    "    for col in range(0,mask.shape[1]-grid_size,grid_size):\n",
    "        grid_x = row \n",
    "        grid_y = col \n",
    "        flag = 0\n",
    "        for x, y in gt_points:\n",
    "            if x-grid_x<=offset and x-grid_x>0 and y-grid_y<=offset and y-grid_y>0:\n",
    "                true_pos_grids.append([grid_x, grid_y])\n",
    "                flag = 1\n",
    "                break\n",
    "        if flag == 0:\n",
    "            true_neg_grids.append([grid_x, grid_y])\n",
    "\n",
    "# true_pos_grids, true_neg_grids = np.array(true_pos_grids), np.array(true_neg_grids)\n",
    "print(len(true_pos_grids), len(true_neg_grids))"
   ]
  },
  {
   "cell_type": "code",
   "execution_count": 29,
   "metadata": {},
   "outputs": [
    {
     "data": {
      "text/plain": [
       "True"
      ]
     },
     "execution_count": 29,
     "metadata": {},
     "output_type": "execute_result"
    }
   ],
   "source": [
    "# check true grids map\n",
    "\n",
    "true_grids_map = np.zeros(mask.shape)\n",
    "for i in true_pos_grids:\n",
    "    x, y = i[0], i[1]\n",
    "    true_grids_map[x:x+grid_size, y:y+grid_size] = 255\n",
    "cv2.imwrite(region_name+'_true_grids_'+str(grid_size)+'.jpeg', true_grids_map)"
   ]
  },
  {
   "cell_type": "markdown",
   "metadata": {},
   "source": [
    "## Generate Recognized Pos & Neg Grids"
   ]
  },
  {
   "cell_type": "code",
   "execution_count": 30,
   "metadata": {},
   "outputs": [
    {
     "name": "stdout",
     "output_type": "stream",
     "text": [
      "414 36000\n"
     ]
    }
   ],
   "source": [
    "\n",
    "reg_pos_grids = []\n",
    "reg_neg_grids = []\n",
    "\n",
    "for row in range(0,mask.shape[0]-grid_size,grid_size):\n",
    "    for col in range(0,mask.shape[1]-grid_size,grid_size):\n",
    "        grid_x = row \n",
    "        grid_y = col \n",
    "        flag = 0\n",
    "        for x, y in pred_points:\n",
    "            if x-grid_x<=offset and x-grid_x>0 and y-grid_y<=offset and y-grid_y>0:\n",
    "                reg_pos_grids.append([grid_x, grid_y])\n",
    "                flag = 1\n",
    "                break\n",
    "        if flag == 0:\n",
    "            reg_neg_grids.append([grid_x, grid_y])\n",
    "        \n",
    "\n",
    "# reg_pos_grids, reg_neg_grids = np.array(reg_pos_grids), np.array(reg_neg_grids)\n",
    "print(len(reg_pos_grids), len(reg_neg_grids))"
   ]
  },
  {
   "cell_type": "code",
   "execution_count": 31,
   "metadata": {},
   "outputs": [
    {
     "data": {
      "text/plain": [
       "True"
      ]
     },
     "execution_count": 31,
     "metadata": {},
     "output_type": "execute_result"
    }
   ],
   "source": [
    "# check recognized grids map\n",
    "\n",
    "reg_grids_map = np.zeros(mask.shape)\n",
    "for i in reg_pos_grids:\n",
    "    x, y = i[0], i[1]\n",
    "    reg_grids_map[x:x+grid_size, y:y+grid_size] = 255\n",
    "cv2.imwrite(region_name+'_pred_grids_'+str(grid_size)+'.jpeg', reg_grids_map)"
   ]
  },
  {
   "cell_type": "markdown",
   "metadata": {},
   "source": [
    "## Calculate Precision, Recall, F1"
   ]
  },
  {
   "cell_type": "code",
   "execution_count": 32,
   "metadata": {},
   "outputs": [
    {
     "name": "stdout",
     "output_type": "stream",
     "text": [
      "174.0 240.0 19.0\n",
      "0.42028985507246375 0.9015544041450777 0.5733113673805601\n"
     ]
    }
   ],
   "source": [
    "tp, fp, fn = 0.0, 0.0, 0.0\n",
    "\n",
    "for i in reg_pos_grids:\n",
    "    if i in true_pos_grids:\n",
    "#         print(i, true_pos_grids.where(i))\n",
    "        tp += 1\n",
    "    else:\n",
    "        fp += 1\n",
    "\n",
    "for i in true_pos_grids:\n",
    "    if i not in reg_pos_grids:\n",
    "        fn += 1\n",
    "\n",
    "precision = tp / (tp+fp)\n",
    "recall = tp / (tp+fn)\n",
    "f1 = 2*precision*recall / (precision+recall)\n",
    "print(tp, fp, fn)\n",
    "print(precision, recall, f1)"
   ]
  },
  {
   "cell_type": "code",
   "execution_count": null,
   "metadata": {
    "collapsed": true
   },
   "outputs": [],
   "source": []
  }
 ],
 "metadata": {
  "kernelspec": {
   "display_name": "Python 3",
   "language": "python",
   "name": "python3"
  },
  "language_info": {
   "codemirror_mode": {
    "name": "ipython",
    "version": 3
   },
   "file_extension": ".py",
   "mimetype": "text/x-python",
   "name": "python",
   "nbconvert_exporter": "python",
   "pygments_lexer": "ipython3",
   "version": "3.5.2"
  }
 },
 "nbformat": 4,
 "nbformat_minor": 2
}
