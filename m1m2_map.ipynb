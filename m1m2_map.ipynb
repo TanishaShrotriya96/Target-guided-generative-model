{
 "cells": [
  {
   "cell_type": "code",
   "execution_count": 1,
   "metadata": {},
   "outputs": [
    {
     "name": "stderr",
     "output_type": "stream",
     "text": [
      "Using TensorFlow backend.\n"
     ]
    }
   ],
   "source": [
    "%matplotlib inline\n",
    "import numpy as np\n",
    "import time\n",
    "import h5py\n",
    "import keras\n",
    "import pandas as pd\n",
    "import math\n",
    "import joblib\n",
    "import os, cv2\n",
    "import matplotlib.pyplot as plt\n",
    "\n",
    "from sklearn.decomposition import PCA\n",
    "from sklearn.svm import SVC\n",
    "from sklearn.metrics import accuracy_score\n",
    "from sklearn.model_selection import StratifiedShuffleSplit\n",
    "from IPython.display import display\n",
    "\n",
    "from keras.layers import (Input, Dense, Lambda, Flatten, Reshape, BatchNormalization, Activation, \n",
    "                          Dropout, Conv2D, Conv2DTranspose, MaxPooling2D)\n",
    "from keras.layers.merge import concatenate\n",
    "from keras.regularizers import l2\n",
    "from keras.initializers import RandomUniform\n",
    "from keras.optimizers import RMSprop, Adam, SGD\n",
    "from keras.models import Model\n",
    "from keras import metrics\n",
    "from keras.utils import np_utils\n",
    "from keras import backend as K\n",
    "from keras.datasets import mnist\n",
    "import tensorflow as tf\n",
    "from tensorflow import Graph, Session\n",
    "os.environ[\"CUDA_VISIBLE_DEVICES\"]=\"0\""
   ]
  },
  {
   "cell_type": "markdown",
   "metadata": {},
   "source": [
    "# Variational Autoencoder Parameters"
   ]
  },
  {
   "cell_type": "code",
   "execution_count": 2,
   "metadata": {},
   "outputs": [],
   "source": [
    "img_rows, img_cols, img_chns = 20, 20, 3\n",
    "\n",
    "if K.image_data_format() == 'channels_first':\n",
    "    original_img_size = (img_chns, img_rows, img_cols)\n",
    "else:\n",
    "    original_img_size = (img_rows, img_cols, img_chns)\n",
    "\n",
    "batch_size = 600\n",
    "latent_dim = 128\n",
    "intermediate_dim = 512\n",
    "epsilon_std = 1.0\n",
    "epochs = 100\n",
    "activation = 'relu'\n",
    "dropout = 0.5\n",
    "learning_rate = 1e-4\n",
    "decay = 0.0\n",
    "num_classes = 2\n",
    "\n",
    "image_name = '322.tif'\n",
    "mask_name = '322_car_1'\n",
    "data_path = './data/xview/'\n",
    "unlabeled_imgs_path = './temp'\n",
    "pos_folder_path = os.path.join(data_path, mask_name+'_samples', 'positive')\n",
    "neg_folder_path = os.path.join(data_path, mask_name+'_samples', 'negative')"
   ]
  },
  {
   "cell_type": "markdown",
   "metadata": {},
   "source": [
    "# Load map dataset"
   ]
  },
  {
   "cell_type": "code",
   "execution_count": 3,
   "metadata": {
    "collapsed": true
   },
   "outputs": [],
   "source": [
    "def read_img_from_dir(path):\n",
    "    data= []\n",
    "    for root, dirs, files in os.walk(path, topdown=False):\n",
    "        for name in files:\n",
    "            img_path = os.path.join(root, name)\n",
    "            data.append(cv2.imread(img_path))\n",
    "    data = np.array(data)\n",
    "    return data\n"
   ]
  },
  {
   "cell_type": "code",
   "execution_count": 4,
   "metadata": {},
   "outputs": [
    {
     "name": "stdout",
     "output_type": "stream",
     "text": [
      "(1406, 20, 20, 3) (5, 20, 20, 3) (5, 20, 20, 3)\n"
     ]
    }
   ],
   "source": [
    "X_others = read_img_from_dir(unlabeled_imgs_path)\n",
    "pos_samples = read_img_from_dir(pos_folder_path)\n",
    "neg_samples = read_img_from_dir(neg_folder_path)\n",
    "print(X_others.shape, pos_samples.shape, neg_samples.shape)"
   ]
  },
  {
   "cell_type": "code",
   "execution_count": 5,
   "metadata": {},
   "outputs": [
    {
     "name": "stdout",
     "output_type": "stream",
     "text": [
      "(1200, 20, 20, 3) (10, 20, 20, 3) (10, 2)\n"
     ]
    }
   ],
   "source": [
    "X_others = X_others.reshape(X_others.shape[0], img_rows, img_cols, img_chns) / 255.\n",
    "pos_samples = list(pos_samples.reshape(pos_samples.shape[0], img_rows, img_cols, img_chns) / 255.)\n",
    "neg_samples = list(neg_samples.reshape(neg_samples.shape[0], img_rows, img_cols, img_chns) / 255.)\n",
    "X = []\n",
    "y = []\n",
    "for i in range(len(pos_samples)):\n",
    "    X.append(pos_samples[i])\n",
    "    X.append(neg_samples[i])\n",
    "    y.append([0,1])\n",
    "    y.append([1,0])\n",
    "X, y = np.array(X), np.array(y)\n",
    "X_others = X_others[:batch_size*2]\n",
    "print(X_others.shape, X.shape, y.shape)"
   ]
  },
  {
   "cell_type": "markdown",
   "metadata": {},
   "source": [
    "# Encoder Network"
   ]
  },
  {
   "cell_type": "code",
   "execution_count": 6,
   "metadata": {
    "collapsed": true
   },
   "outputs": [],
   "source": [
    "def create_enc_conv_layers(stage, **kwargs):\n",
    "    conv_name = '_'.join(['enc_conv', str(stage)])\n",
    "    layers = [\n",
    "        Conv2D(name=conv_name, **kwargs),\n",
    "        Activation(activation),\n",
    "    ]\n",
    "    return layers\n",
    "\n",
    "def create_dense_layers(stage, width):\n",
    "    dense_name = '_'.join(['dense', str(stage)])\n",
    "    layers = [\n",
    "        Dense(width, name=dense_name),\n",
    "        Activation(activation),\n",
    "        Dropout(dropout),\n",
    "    ]\n",
    "    return layers\n",
    "\n",
    "def inst_layers(layers, in_layer):\n",
    "    x = in_layer\n",
    "    for layer in layers:\n",
    "        if isinstance(layer, list):\n",
    "            x = inst_layers(layer, x)\n",
    "        else:\n",
    "            x = layer(x)\n",
    "        \n",
    "    return x"
   ]
  },
  {
   "cell_type": "code",
   "execution_count": 7,
   "metadata": {
    "collapsed": true
   },
   "outputs": [],
   "source": [
    "\n",
    "enc_filters=64\n",
    "enc_layers = [\n",
    "    create_enc_conv_layers(stage=1, filters=enc_filters, kernel_size=3, strides=1, padding='same'),\n",
    "    create_enc_conv_layers(stage=2, filters=enc_filters, kernel_size=3, strides=1, padding='same'),\n",
    "    create_enc_conv_layers(stage=3, filters=enc_filters, kernel_size=3, strides=2, padding='same'),\n",
    "    Flatten(),\n",
    "    create_dense_layers(stage=4, width=intermediate_dim),\n",
    "]"
   ]
  },
  {
   "cell_type": "code",
   "execution_count": 8,
   "metadata": {},
   "outputs": [],
   "source": [
    "# Labeled encoder\n",
    "\n",
    "x_in = Input(shape=(img_rows, img_cols, img_chns))\n",
    "y_in = Input(shape=(num_classes,))\n",
    "_enc_dense = inst_layers(enc_layers, x_in)\n",
    "\n",
    "_z_mean_1 = Dense(latent_dim)(_enc_dense)\n",
    "_z_log_var_1 = Dense(latent_dim)(_enc_dense)\n",
    "\n",
    "z_mean = _z_mean_1\n",
    "z_log_var = _z_log_var_1\n"
   ]
  },
  {
   "cell_type": "markdown",
   "metadata": {},
   "source": [
    "### Reparameterization Trick"
   ]
  },
  {
   "cell_type": "code",
   "execution_count": 9,
   "metadata": {
    "collapsed": true
   },
   "outputs": [],
   "source": [
    "\n",
    "def sampling(args):\n",
    "    z_mean, z_log_var = args\n",
    "    batch = K.shape(z_mean)[0]\n",
    "    dim = K.int_shape(z_mean)[1]\n",
    "    # by default, random_normal has mean = 0 and std = 1.0\n",
    "    epsilon = K.random_normal(shape=(batch, dim))\n",
    "    return z_mean + K.exp(0.5 * z_log_var) * epsilon\n",
    "\n",
    "z = Lambda(sampling, output_shape=(latent_dim,))([z_mean, z_log_var])"
   ]
  },
  {
   "cell_type": "markdown",
   "metadata": {},
   "source": [
    "# Classifier Network "
   ]
  },
  {
   "cell_type": "code",
   "execution_count": 10,
   "metadata": {
    "collapsed": true
   },
   "outputs": [],
   "source": [
    "classifier_layers = [\n",
    "    Conv2D(32, (3, 3), padding='same'),\n",
    "    Activation('relu'),\n",
    "    Conv2D(32, (3, 3)),\n",
    "    Activation('relu'),\n",
    "    MaxPooling2D(pool_size=(2, 2)),\n",
    "    Dropout(0.25),\n",
    "    Conv2D(64, (3, 3), padding='same'),\n",
    "    Activation('relu'),\n",
    "    Conv2D(64, (3, 3)),\n",
    "    Activation('relu'),\n",
    "    MaxPooling2D(pool_size=(2, 2)),\n",
    "    Dropout(0.25),\n",
    "    Flatten(),\n",
    "    Dense(512,name='dense_cls_'),\n",
    "    Activation('relu'),\n",
    "    Dropout(0.5),\n",
    "    Dense(num_classes,name='dense_cls'),\n",
    "    Activation(tf.nn.softmax),\n",
    "]"
   ]
  },
  {
   "cell_type": "code",
   "execution_count": 11,
   "metadata": {},
   "outputs": [],
   "source": [
    "_cls_output = inst_layers(classifier_layers, x_in)\n",
    "_y_output = _cls_output"
   ]
  },
  {
   "cell_type": "markdown",
   "metadata": {},
   "source": [
    "# Decoder Network"
   ]
  },
  {
   "cell_type": "code",
   "execution_count": 12,
   "metadata": {
    "collapsed": true
   },
   "outputs": [],
   "source": [
    "def create_dec_trans_conv_layers(stage, **kwargs):\n",
    "    conv_name = '_'.join(['dec_trans_conv', str(stage)])\n",
    "    layers = [\n",
    "        Conv2DTranspose(name=conv_name, **kwargs),\n",
    "        Activation(activation),\n",
    "    ]\n",
    "    return layers"
   ]
  },
  {
   "cell_type": "code",
   "execution_count": 13,
   "metadata": {
    "collapsed": true
   },
   "outputs": [],
   "source": [
    "\n",
    "\n",
    "dec_filters = 64\n",
    "\n",
    "decoder_layers = [\n",
    "    create_dense_layers(stage=10, width=10 * 10 * 64),\n",
    "    Reshape((10, 10, 64)),\n",
    "    create_dec_trans_conv_layers(11, filters=dec_filters, kernel_size=3, strides=1, padding='same'),\n",
    "    create_dec_trans_conv_layers(12, filters=dec_filters, kernel_size=3, strides=1, padding='same'),\n",
    "    create_dec_trans_conv_layers(13, filters=dec_filters, kernel_size=3, strides=2, padding='same'),\n",
    "    Conv2DTranspose(name='x_decoded', filters=img_chns, kernel_size=1, strides=1, activation='sigmoid'),\n",
    "]"
   ]
  },
  {
   "cell_type": "code",
   "execution_count": 14,
   "metadata": {},
   "outputs": [],
   "source": [
    "\n",
    "# Labeled decoder\n",
    "_merged = concatenate([y_in, z])\n",
    "\n",
    "_dec_out = inst_layers(decoder_layers, _merged)\n",
    "_x_output = _dec_out\n",
    "\n"
   ]
  },
  {
   "cell_type": "code",
   "execution_count": 15,
   "metadata": {},
   "outputs": [],
   "source": [
    "\n",
    "# Unlabeled decoder\n",
    "u_merged = concatenate([_y_output, z])\n",
    "u_dec_out = inst_layers(decoder_layers, u_merged)\n",
    "u_x_output = u_dec_out"
   ]
  },
  {
   "cell_type": "markdown",
   "metadata": {},
   "source": [
    "# Loss Function"
   ]
  },
  {
   "cell_type": "code",
   "execution_count": 16,
   "metadata": {
    "collapsed": true,
    "scrolled": true
   },
   "outputs": [],
   "source": [
    "def kl_loss(x, x_decoded_mean, z_mean=z_mean, z_log_var=z_log_var):\n",
    "    kl_loss = - 0.5 * K.sum(1. + z_log_var - K.square(z_mean) - K.exp(z_log_var), axis=-1)\n",
    "   \n",
    "    return K.mean(kl_loss)\n",
    "\n",
    "def logxy_loss(x, x_decoded_mean):\n",
    "    x = K.flatten(x)\n",
    "    x_decoded_mean = K.flatten(x_decoded_mean)\n",
    "    xent_loss = img_rows * img_cols * img_chns * metrics.binary_crossentropy(x, x_decoded_mean)\n",
    "   \n",
    "    # p(y) for observed data is equally distributed\n",
    "    logy = np.log(1. / num_classes)\n",
    "    \n",
    "    return xent_loss - logy\n",
    "\n",
    "def labeled_vae_loss(x, x_decoded_mean):\n",
    "    return logxy_loss(x, x_decoded_mean) + kl_loss(x, x_decoded_mean)\n",
    "\n",
    "def cls_loss(y, y_pred, N=1000):\n",
    "    alpha = 0.1 * N\n",
    "    return alpha * metrics.categorical_crossentropy(y, y_pred)\n",
    "\n",
    "def unlabeled_vae_loss(x, x_decoded_mean):\n",
    "    entropy = metrics.categorical_crossentropy(_y_output, _y_output)\n",
    "    # This is probably not correct, see discussion here: https://github.com/bjlkeng/sandbox/issues/3\n",
    "    labeled_loss = logxy_loss(x, x_decoded_mean) + kl_loss(x, x_decoded_mean)\n",
    "    \n",
    "    return K.mean(K.sum(_y_output * labeled_loss, axis=-1)) + entropy"
   ]
  },
  {
   "cell_type": "markdown",
   "metadata": {},
   "source": [
    "# Compile Model"
   ]
  },
  {
   "cell_type": "code",
   "execution_count": 17,
   "metadata": {
    "scrolled": true
   },
   "outputs": [
    {
     "name": "stdout",
     "output_type": "stream",
     "text": [
      "__________________________________________________________________________________________________\n",
      "Layer (type)                    Output Shape         Param #     Connected to                     \n",
      "==================================================================================================\n",
      "input_1 (InputLayer)            (None, 20, 20, 3)    0                                            \n",
      "__________________________________________________________________________________________________\n",
      "enc_conv_1 (Conv2D)             (None, 20, 20, 64)   1792        input_1[0][0]                    \n",
      "__________________________________________________________________________________________________\n",
      "activation_1 (Activation)       (None, 20, 20, 64)   0           enc_conv_1[0][0]                 \n",
      "__________________________________________________________________________________________________\n",
      "enc_conv_2 (Conv2D)             (None, 20, 20, 64)   36928       activation_1[0][0]               \n",
      "__________________________________________________________________________________________________\n",
      "activation_2 (Activation)       (None, 20, 20, 64)   0           enc_conv_2[0][0]                 \n",
      "__________________________________________________________________________________________________\n",
      "enc_conv_3 (Conv2D)             (None, 10, 10, 64)   36928       activation_2[0][0]               \n",
      "__________________________________________________________________________________________________\n",
      "activation_3 (Activation)       (None, 10, 10, 64)   0           enc_conv_3[0][0]                 \n",
      "__________________________________________________________________________________________________\n",
      "flatten_1 (Flatten)             (None, 6400)         0           activation_3[0][0]               \n",
      "__________________________________________________________________________________________________\n",
      "conv2d_1 (Conv2D)               (None, 20, 20, 32)   896         input_1[0][0]                    \n",
      "__________________________________________________________________________________________________\n",
      "dense_4 (Dense)                 (None, 512)          3277312     flatten_1[0][0]                  \n",
      "__________________________________________________________________________________________________\n",
      "activation_5 (Activation)       (None, 20, 20, 32)   0           conv2d_1[0][0]                   \n",
      "__________________________________________________________________________________________________\n",
      "activation_4 (Activation)       (None, 512)          0           dense_4[0][0]                    \n",
      "__________________________________________________________________________________________________\n",
      "conv2d_2 (Conv2D)               (None, 18, 18, 32)   9248        activation_5[0][0]               \n",
      "__________________________________________________________________________________________________\n",
      "dropout_1 (Dropout)             (None, 512)          0           activation_4[0][0]               \n",
      "__________________________________________________________________________________________________\n",
      "activation_6 (Activation)       (None, 18, 18, 32)   0           conv2d_2[0][0]                   \n",
      "__________________________________________________________________________________________________\n",
      "dense_1 (Dense)                 (None, 128)          65664       dropout_1[0][0]                  \n",
      "__________________________________________________________________________________________________\n",
      "dense_2 (Dense)                 (None, 128)          65664       dropout_1[0][0]                  \n",
      "__________________________________________________________________________________________________\n",
      "max_pooling2d_1 (MaxPooling2D)  (None, 9, 9, 32)     0           activation_6[0][0]               \n",
      "__________________________________________________________________________________________________\n",
      "input_2 (InputLayer)            (None, 2)            0                                            \n",
      "__________________________________________________________________________________________________\n",
      "lambda_1 (Lambda)               (None, 128)          0           dense_1[0][0]                    \n",
      "                                                                 dense_2[0][0]                    \n",
      "__________________________________________________________________________________________________\n",
      "dropout_2 (Dropout)             (None, 9, 9, 32)     0           max_pooling2d_1[0][0]            \n",
      "__________________________________________________________________________________________________\n",
      "concatenate_1 (Concatenate)     (None, 130)          0           input_2[0][0]                    \n",
      "                                                                 lambda_1[0][0]                   \n",
      "__________________________________________________________________________________________________\n",
      "conv2d_3 (Conv2D)               (None, 9, 9, 64)     18496       dropout_2[0][0]                  \n",
      "__________________________________________________________________________________________________\n",
      "dense_10 (Dense)                (None, 6400)         838400      concatenate_1[0][0]              \n",
      "__________________________________________________________________________________________________\n",
      "activation_7 (Activation)       (None, 9, 9, 64)     0           conv2d_3[0][0]                   \n",
      "__________________________________________________________________________________________________\n",
      "activation_11 (Activation)      (None, 6400)         0           dense_10[0][0]                   \n",
      "__________________________________________________________________________________________________\n",
      "conv2d_4 (Conv2D)               (None, 7, 7, 64)     36928       activation_7[0][0]               \n",
      "__________________________________________________________________________________________________\n",
      "dropout_5 (Dropout)             (None, 6400)         0           activation_11[0][0]              \n",
      "__________________________________________________________________________________________________\n",
      "activation_8 (Activation)       (None, 7, 7, 64)     0           conv2d_4[0][0]                   \n",
      "__________________________________________________________________________________________________\n",
      "reshape_1 (Reshape)             (None, 10, 10, 64)   0           dropout_5[0][0]                  \n",
      "__________________________________________________________________________________________________\n",
      "max_pooling2d_2 (MaxPooling2D)  (None, 3, 3, 64)     0           activation_8[0][0]               \n",
      "__________________________________________________________________________________________________\n",
      "dec_trans_conv_11 (Conv2DTransp (None, 10, 10, 64)   36928       reshape_1[0][0]                  \n",
      "__________________________________________________________________________________________________\n",
      "dropout_3 (Dropout)             (None, 3, 3, 64)     0           max_pooling2d_2[0][0]            \n",
      "__________________________________________________________________________________________________\n",
      "activation_12 (Activation)      (None, 10, 10, 64)   0           dec_trans_conv_11[0][0]          \n",
      "__________________________________________________________________________________________________\n",
      "flatten_2 (Flatten)             (None, 576)          0           dropout_3[0][0]                  \n",
      "__________________________________________________________________________________________________\n",
      "dec_trans_conv_12 (Conv2DTransp (None, 10, 10, 64)   36928       activation_12[0][0]              \n",
      "__________________________________________________________________________________________________\n",
      "dense_cls_ (Dense)              (None, 512)          295424      flatten_2[0][0]                  \n",
      "__________________________________________________________________________________________________\n",
      "activation_13 (Activation)      (None, 10, 10, 64)   0           dec_trans_conv_12[0][0]          \n",
      "__________________________________________________________________________________________________\n",
      "activation_9 (Activation)       (None, 512)          0           dense_cls_[0][0]                 \n",
      "__________________________________________________________________________________________________\n",
      "dec_trans_conv_13 (Conv2DTransp (None, 20, 20, 64)   36928       activation_13[0][0]              \n",
      "__________________________________________________________________________________________________\n",
      "dropout_4 (Dropout)             (None, 512)          0           activation_9[0][0]               \n",
      "__________________________________________________________________________________________________\n",
      "activation_14 (Activation)      (None, 20, 20, 64)   0           dec_trans_conv_13[0][0]          \n",
      "__________________________________________________________________________________________________\n",
      "dense_cls (Dense)               (None, 2)            1026        dropout_4[0][0]                  \n",
      "__________________________________________________________________________________________________\n",
      "x_decoded (Conv2DTranspose)     (None, 20, 20, 3)    195         activation_14[0][0]              \n",
      "__________________________________________________________________________________________________\n",
      "activation_10 (Activation)      (None, 2)            0           dense_cls[0][0]                  \n",
      "==================================================================================================\n",
      "Total params: 4,795,685\n",
      "Trainable params: 4,795,685\n",
      "Non-trainable params: 0\n",
      "__________________________________________________________________________________________________\n"
     ]
    }
   ],
   "source": [
    "label_vae = Model(inputs=[x_in, y_in], outputs=[_x_output, _y_output])\n",
    "# optimizer = Adam(lr=learning_rate, decay=decay)\n",
    "optimizer = SGD(lr=learning_rate)\n",
    "label_vae.compile(optimizer=optimizer, loss=[labeled_vae_loss, cls_loss])\n",
    "label_vae.summary()"
   ]
  },
  {
   "cell_type": "code",
   "execution_count": 18,
   "metadata": {},
   "outputs": [
    {
     "name": "stdout",
     "output_type": "stream",
     "text": [
      "__________________________________________________________________________________________________\n",
      "Layer (type)                    Output Shape         Param #     Connected to                     \n",
      "==================================================================================================\n",
      "input_1 (InputLayer)            (None, 20, 20, 3)    0                                            \n",
      "__________________________________________________________________________________________________\n",
      "conv2d_1 (Conv2D)               (None, 20, 20, 32)   896         input_1[0][0]                    \n",
      "__________________________________________________________________________________________________\n",
      "activation_5 (Activation)       (None, 20, 20, 32)   0           conv2d_1[0][0]                   \n",
      "__________________________________________________________________________________________________\n",
      "conv2d_2 (Conv2D)               (None, 18, 18, 32)   9248        activation_5[0][0]               \n",
      "__________________________________________________________________________________________________\n",
      "activation_6 (Activation)       (None, 18, 18, 32)   0           conv2d_2[0][0]                   \n",
      "__________________________________________________________________________________________________\n",
      "max_pooling2d_1 (MaxPooling2D)  (None, 9, 9, 32)     0           activation_6[0][0]               \n",
      "__________________________________________________________________________________________________\n",
      "dropout_2 (Dropout)             (None, 9, 9, 32)     0           max_pooling2d_1[0][0]            \n",
      "__________________________________________________________________________________________________\n",
      "conv2d_3 (Conv2D)               (None, 9, 9, 64)     18496       dropout_2[0][0]                  \n",
      "__________________________________________________________________________________________________\n",
      "enc_conv_1 (Conv2D)             (None, 20, 20, 64)   1792        input_1[0][0]                    \n",
      "__________________________________________________________________________________________________\n",
      "activation_7 (Activation)       (None, 9, 9, 64)     0           conv2d_3[0][0]                   \n",
      "__________________________________________________________________________________________________\n",
      "activation_1 (Activation)       (None, 20, 20, 64)   0           enc_conv_1[0][0]                 \n",
      "__________________________________________________________________________________________________\n",
      "conv2d_4 (Conv2D)               (None, 7, 7, 64)     36928       activation_7[0][0]               \n",
      "__________________________________________________________________________________________________\n",
      "enc_conv_2 (Conv2D)             (None, 20, 20, 64)   36928       activation_1[0][0]               \n",
      "__________________________________________________________________________________________________\n",
      "activation_8 (Activation)       (None, 7, 7, 64)     0           conv2d_4[0][0]                   \n",
      "__________________________________________________________________________________________________\n",
      "activation_2 (Activation)       (None, 20, 20, 64)   0           enc_conv_2[0][0]                 \n",
      "__________________________________________________________________________________________________\n",
      "max_pooling2d_2 (MaxPooling2D)  (None, 3, 3, 64)     0           activation_8[0][0]               \n",
      "__________________________________________________________________________________________________\n",
      "enc_conv_3 (Conv2D)             (None, 10, 10, 64)   36928       activation_2[0][0]               \n",
      "__________________________________________________________________________________________________\n",
      "dropout_3 (Dropout)             (None, 3, 3, 64)     0           max_pooling2d_2[0][0]            \n",
      "__________________________________________________________________________________________________\n",
      "activation_3 (Activation)       (None, 10, 10, 64)   0           enc_conv_3[0][0]                 \n",
      "__________________________________________________________________________________________________\n",
      "flatten_2 (Flatten)             (None, 576)          0           dropout_3[0][0]                  \n",
      "__________________________________________________________________________________________________\n",
      "flatten_1 (Flatten)             (None, 6400)         0           activation_3[0][0]               \n",
      "__________________________________________________________________________________________________\n",
      "dense_cls_ (Dense)              (None, 512)          295424      flatten_2[0][0]                  \n",
      "__________________________________________________________________________________________________\n",
      "dense_4 (Dense)                 (None, 512)          3277312     flatten_1[0][0]                  \n",
      "__________________________________________________________________________________________________\n",
      "activation_9 (Activation)       (None, 512)          0           dense_cls_[0][0]                 \n",
      "__________________________________________________________________________________________________\n",
      "activation_4 (Activation)       (None, 512)          0           dense_4[0][0]                    \n",
      "__________________________________________________________________________________________________\n",
      "dropout_4 (Dropout)             (None, 512)          0           activation_9[0][0]               \n",
      "__________________________________________________________________________________________________\n",
      "dropout_1 (Dropout)             (None, 512)          0           activation_4[0][0]               \n",
      "__________________________________________________________________________________________________\n",
      "dense_cls (Dense)               (None, 2)            1026        dropout_4[0][0]                  \n",
      "__________________________________________________________________________________________________\n",
      "dense_1 (Dense)                 (None, 128)          65664       dropout_1[0][0]                  \n",
      "__________________________________________________________________________________________________\n",
      "dense_2 (Dense)                 (None, 128)          65664       dropout_1[0][0]                  \n",
      "__________________________________________________________________________________________________\n",
      "activation_10 (Activation)      (None, 2)            0           dense_cls[0][0]                  \n",
      "__________________________________________________________________________________________________\n",
      "lambda_1 (Lambda)               (None, 128)          0           dense_1[0][0]                    \n",
      "                                                                 dense_2[0][0]                    \n",
      "__________________________________________________________________________________________________\n",
      "concatenate_2 (Concatenate)     (None, 130)          0           activation_10[0][0]              \n",
      "                                                                 lambda_1[0][0]                   \n",
      "__________________________________________________________________________________________________\n",
      "dense_10 (Dense)                (None, 6400)         838400      concatenate_2[0][0]              \n",
      "__________________________________________________________________________________________________\n",
      "activation_11 (Activation)      (None, 6400)         0           dense_10[1][0]                   \n",
      "__________________________________________________________________________________________________\n",
      "dropout_5 (Dropout)             (None, 6400)         0           activation_11[1][0]              \n",
      "__________________________________________________________________________________________________\n",
      "reshape_1 (Reshape)             (None, 10, 10, 64)   0           dropout_5[1][0]                  \n",
      "__________________________________________________________________________________________________\n",
      "dec_trans_conv_11 (Conv2DTransp (None, 10, 10, 64)   36928       reshape_1[1][0]                  \n",
      "__________________________________________________________________________________________________\n",
      "activation_12 (Activation)      (None, 10, 10, 64)   0           dec_trans_conv_11[1][0]          \n",
      "__________________________________________________________________________________________________\n",
      "dec_trans_conv_12 (Conv2DTransp (None, 10, 10, 64)   36928       activation_12[1][0]              \n",
      "__________________________________________________________________________________________________\n",
      "activation_13 (Activation)      (None, 10, 10, 64)   0           dec_trans_conv_12[1][0]          \n",
      "__________________________________________________________________________________________________\n",
      "dec_trans_conv_13 (Conv2DTransp (None, 20, 20, 64)   36928       activation_13[1][0]              \n",
      "__________________________________________________________________________________________________\n",
      "activation_14 (Activation)      (None, 20, 20, 64)   0           dec_trans_conv_13[1][0]          \n",
      "__________________________________________________________________________________________________\n",
      "x_decoded (Conv2DTranspose)     (None, 20, 20, 3)    195         activation_14[1][0]              \n",
      "==================================================================================================\n",
      "Total params: 4,795,685\n",
      "Trainable params: 4,795,685\n",
      "Non-trainable params: 0\n",
      "__________________________________________________________________________________________________\n"
     ]
    }
   ],
   "source": [
    "unlabeled_vae = Model(inputs=x_in, outputs=u_x_output)\n",
    "# optimizer = Adam(lr=learning_rate, decay=decay)\n",
    "optimizer = SGD(lr=learning_rate)\n",
    "unlabeled_vae.compile(optimizer=optimizer, loss=unlabeled_vae_loss)\n",
    "unlabeled_vae.summary()"
   ]
  },
  {
   "cell_type": "code",
   "execution_count": 19,
   "metadata": {
    "collapsed": true,
    "scrolled": true
   },
   "outputs": [],
   "source": [
    "\n",
    "def fit_model(X_unlabeled, X_labeled, y_labeled, epochs):\n",
    "    start = time.time()\n",
    "    history = []\n",
    "    \n",
    "    for epoch in range(epochs):\n",
    "        unlabeled_index = np.arange(len(X_unlabeled))\n",
    "        np.random.shuffle(unlabeled_index)\n",
    "        \n",
    "        # Repeat the labeled data to match length of unlabeled data\n",
    "\n",
    "        l = np.arange(len(X_labeled))\n",
    "        np.random.shuffle(l)\n",
    "        labeled_index = l\n",
    "        \n",
    "        batches = len(X_unlabeled) // batch_size\n",
    "        \n",
    "        for i in range(batches):\n",
    "            # Labeled\n",
    "            index_range =  labeled_index[i * batch_size:(i+1) * batch_size]\n",
    "            \n",
    "            loss = label_vae.train_on_batch([X_labeled[labeled_index], y_labeled[labeled_index]], \n",
    "                                            [X_labeled[labeled_index], y_labeled[labeled_index]])\n",
    "\n",
    "\n",
    "            # Unlabeled\n",
    "            index_range =  unlabeled_index[i * batch_size:(i+1) * batch_size]\n",
    "            loss += [unlabeled_vae.train_on_batch(X_unlabeled[index_range],  X_unlabeled[index_range])]\n",
    "            print('epoch '+str(epoch)+'   loss = ' +str(loss))\n",
    "            history.append(loss)\n",
    "                \n",
    "\n",
    "    \n",
    "   \n",
    "    done = time.time()\n",
    "    elapsed = done - start\n",
    "    print(\"Elapsed: \", elapsed)\n",
    "    \n",
    "    return history"
   ]
  },
  {
   "cell_type": "code",
   "execution_count": 20,
   "metadata": {
    "scrolled": true
   },
   "outputs": [
    {
     "name": "stdout",
     "output_type": "stream",
     "text": [
      "Fitting with sample_size: 10\n",
      "epoch 0   loss = [897.53796, 829.35254, 68.185394, 831.3213]\n",
      "epoch 0   loss = [892.5414, 822.78516, 69.756195, 829.5373]\n",
      "epoch 1   loss = [886.1562, 816.7145, 69.44171, 827.87]\n",
      "epoch 1   loss = [880.24963, 810.673, 69.576645, 827.56726]\n",
      "epoch 2   loss = [873.8706, 805.0731, 68.7975, 826.2311]\n",
      "epoch 2   loss = [870.66174, 799.52405, 71.137665, 824.6471]\n",
      "epoch 3   loss = [862.8779, 794.4896, 68.388275, 824.0182]\n",
      "epoch 3   loss = [857.844, 789.1426, 68.7014, 823.5901]\n",
      "epoch 4   loss = [852.43726, 784.2622, 68.175026, 823.47906]\n",
      "epoch 4   loss = [849.39685, 779.42285, 69.97399, 821.7064]\n",
      "epoch 5   loss = [843.67145, 775.21204, 68.459404, 820.9852]\n",
      "epoch 5   loss = [840.2226, 770.5342, 69.6884, 822.85626]\n",
      "epoch 6   loss = [835.0784, 766.5233, 68.555115, 822.27]\n",
      "epoch 6   loss = [831.46436, 762.379, 69.085304, 820.78076]\n",
      "epoch 7   loss = [825.60736, 758.4072, 67.20014, 821.5097]\n",
      "epoch 7   loss = [824.82007, 755.22327, 69.59683, 821.6362]\n",
      "epoch 8   loss = [819.5688, 751.6653, 67.90352, 822.1425]\n",
      "epoch 8   loss = [815.2872, 748.3906, 66.89653, 821.5796]\n",
      "epoch 9   loss = [813.58795, 745.318, 68.26997, 822.8274]\n",
      "epoch 9   loss = [809.624, 742.28284, 67.34122, 822.0778]\n",
      "epoch 10   loss = [807.6378, 738.6555, 68.98227, 822.10406]\n",
      "epoch 10   loss = [805.41956, 736.80774, 68.61182, 824.41113]\n",
      "epoch 11   loss = [801.3363, 733.91064, 67.42563, 822.914]\n",
      "epoch 11   loss = [798.79156, 731.5514, 67.24019, 825.4437]\n",
      "epoch 12   loss = [797.6259, 729.3119, 68.31404, 826.694]\n",
      "epoch 12   loss = [794.71063, 726.4851, 68.22551, 823.67004]\n",
      "epoch 13   loss = [792.44336, 725.1979, 67.2455, 825.07825]\n",
      "epoch 13   loss = [789.4166, 722.7127, 66.7039, 827.68207]\n",
      "epoch 14   loss = [788.65106, 720.8322, 67.81887, 827.53265]\n",
      "epoch 14   loss = [786.9728, 719.4918, 67.48093, 827.57153]\n",
      "epoch 15   loss = [785.0849, 717.40674, 67.67814, 826.96234]\n",
      "epoch 15   loss = [781.6515, 715.3617, 66.289795, 830.5625]\n",
      "epoch 16   loss = [780.64124, 713.7224, 66.91879, 831.36597]\n",
      "epoch 16   loss = [780.1476, 713.2158, 66.93173, 828.41846]\n",
      "epoch 17   loss = [778.9064, 711.61487, 67.29149, 830.1226]\n",
      "epoch 17   loss = [777.7866, 710.26636, 67.520256, 832.10333]\n",
      "epoch 18   loss = [776.5225, 709.24536, 67.27716, 833.6343]\n",
      "epoch 18   loss = [776.9019, 708.6282, 68.27373, 830.84283]\n",
      "epoch 19   loss = [773.8888, 707.40247, 66.48631, 831.93353]\n",
      "epoch 19   loss = [771.8635, 705.59436, 66.269135, 834.99146]\n",
      "epoch 20   loss = [770.7294, 705.61487, 65.11447, 832.6099]\n",
      "epoch 20   loss = [772.10657, 704.5553, 67.55125, 836.27167]\n",
      "epoch 21   loss = [766.7234, 703.4142, 63.30918, 836.12726]\n",
      "epoch 21   loss = [770.56793, 702.8496, 67.71834, 834.6205]\n",
      "epoch 22   loss = [767.0756, 701.27014, 65.80547, 834.5324]\n",
      "epoch 22   loss = [768.80914, 701.2041, 67.60504, 838.0731]\n",
      "epoch 23   loss = [764.89307, 700.65234, 64.24074, 839.1557]\n",
      "epoch 23   loss = [766.20337, 700.2062, 65.99717, 835.0081]\n",
      "epoch 24   loss = [765.2959, 699.3102, 65.98575, 838.17096]\n",
      "epoch 24   loss = [764.13745, 698.5842, 65.55321, 837.7932]\n",
      "epoch 25   loss = [762.3469, 698.2936, 64.05337, 840.5077]\n",
      "epoch 25   loss = [761.8809, 697.8209, 64.06, 836.539]\n",
      "epoch 26   loss = [763.27466, 697.7318, 65.54285, 840.2533]\n",
      "epoch 26   loss = [762.68054, 696.95593, 65.72461, 838.25464]\n",
      "epoch 27   loss = [762.4923, 696.11536, 66.37695, 836.09625]\n",
      "epoch 27   loss = [760.4026, 695.9055, 64.49708, 843.6726]\n",
      "epoch 28   loss = [760.26135, 696.0082, 64.25314, 842.0271]\n",
      "epoch 28   loss = [759.4319, 695.2268, 64.20507, 838.7827]\n",
      "epoch 29   loss = [759.3395, 695.27844, 64.06102, 838.438]\n",
      "epoch 29   loss = [755.1782, 694.61255, 60.565674, 843.43665]\n",
      "epoch 30   loss = [760.0864, 694.6044, 65.48207, 839.88385]\n",
      "epoch 30   loss = [758.11633, 695.041, 63.075344, 842.83203]\n",
      "epoch 31   loss = [759.67194, 693.94214, 65.72979, 841.6914]\n",
      "epoch 31   loss = [757.82544, 693.64, 64.18544, 841.76764]\n",
      "epoch 32   loss = [758.378, 693.6113, 64.76666, 844.1681]\n",
      "epoch 32   loss = [756.69006, 693.00854, 63.681503, 839.9032]\n",
      "epoch 33   loss = [757.94354, 693.0344, 64.90914, 842.85095]\n",
      "epoch 33   loss = [753.80963, 692.7755, 61.03412, 841.823]\n",
      "epoch 34   loss = [755.04315, 692.70544, 62.337715, 838.72974]\n",
      "epoch 34   loss = [756.323, 692.3784, 63.94458, 846.79736]\n",
      "epoch 35   loss = [754.0814, 691.9569, 62.124523, 843.3892]\n",
      "epoch 35   loss = [755.0213, 691.4204, 63.60087, 842.5604]\n",
      "epoch 36   loss = [754.2409, 692.28296, 61.95793, 842.29346]\n",
      "epoch 36   loss = [753.15155, 691.9175, 61.234066, 844.14276]\n",
      "epoch 37   loss = [752.8463, 691.6146, 61.231705, 843.78864]\n",
      "epoch 37   loss = [752.85974, 692.00073, 60.85903, 843.03937]\n",
      "epoch 38   loss = [753.76733, 691.503, 62.26435, 843.3301]\n",
      "epoch 38   loss = [751.05884, 691.26843, 59.79042, 843.7745]\n",
      "epoch 39   loss = [754.5536, 691.1654, 63.388187, 844.93365]\n",
      "epoch 39   loss = [751.5771, 690.61755, 60.95952, 842.4688]\n",
      "epoch 40   loss = [750.68823, 690.9543, 59.73394, 845.5421]\n",
      "epoch 40   loss = [753.2505, 690.6609, 62.589577, 842.0856]\n",
      "epoch 41   loss = [753.5493, 690.68506, 62.86427, 844.6242]\n",
      "epoch 41   loss = [751.0276, 690.3899, 60.6377, 843.62915]\n",
      "epoch 42   loss = [751.2747, 690.72363, 60.5511, 842.3697]\n",
      "epoch 42   loss = [751.00885, 690.20557, 60.803288, 845.91174]\n",
      "epoch 43   loss = [749.88525, 690.749, 59.13623, 847.2674]\n",
      "epoch 43   loss = [750.65924, 690.21606, 60.443203, 841.1215]\n",
      "epoch 44   loss = [751.068, 690.17896, 60.889015, 843.5915]\n",
      "epoch 44   loss = [749.4181, 690.43115, 58.986935, 845.0509]\n",
      "epoch 45   loss = [749.9937, 689.8994, 60.094307, 839.1174]\n",
      "epoch 45   loss = [754.0854, 690.1001, 63.985283, 849.8567]\n",
      "epoch 46   loss = [750.97003, 690.2776, 60.69245, 842.4665]\n",
      "epoch 46   loss = [749.654, 690.09424, 59.559746, 846.4888]\n",
      "epoch 47   loss = [749.099, 690.4453, 58.65368, 843.41425]\n",
      "epoch 47   loss = [746.3018, 690.05444, 56.247375, 845.62085]\n",
      "epoch 48   loss = [746.4409, 689.70325, 56.737667, 841.62177]\n",
      "epoch 48   loss = [747.785, 690.05707, 57.727905, 847.6696]\n",
      "epoch 49   loss = [746.2034, 689.938, 56.265427, 843.29266]\n",
      "epoch 49   loss = [745.8893, 689.82324, 56.066017, 846.0844]\n",
      "epoch 50   loss = [744.4628, 689.85376, 54.60909, 845.492]\n",
      "epoch 50   loss = [745.88074, 689.9227, 55.95803, 843.80225]\n",
      "epoch 51   loss = [743.9501, 690.23145, 53.718605, 848.7631]\n",
      "epoch 51   loss = [745.25635, 690.4121, 54.844223, 840.5927]\n",
      "epoch 52   loss = [744.3877, 689.43634, 54.95133, 844.41003]\n",
      "epoch 52   loss = [746.41943, 689.88806, 56.53139, 845.0948]\n",
      "epoch 53   loss = [743.5066, 690.20483, 53.301754, 846.9855]\n",
      "epoch 53   loss = [742.2536, 689.53357, 52.72001, 842.4864]\n",
      "epoch 54   loss = [742.62396, 689.8761, 52.747852, 845.6964]\n",
      "epoch 54   loss = [742.81866, 689.32825, 53.490406, 843.82227]\n",
      "epoch 55   loss = [743.61926, 689.84424, 53.775024, 848.04736]\n",
      "epoch 55   loss = [747.8636, 690.00525, 57.858337, 841.6494]\n",
      "epoch 56   loss = [741.17834, 689.69635, 51.482025, 844.377]\n",
      "epoch 56   loss = [740.3815, 689.2698, 51.11171, 845.4638]\n",
      "epoch 57   loss = [745.0523, 689.35254, 55.69979, 845.1469]\n",
      "epoch 57   loss = [741.73456, 689.68414, 52.050407, 844.63306]\n",
      "epoch 58   loss = [741.251, 689.5781, 51.672844, 845.6763]\n",
      "epoch 58   loss = [743.0415, 689.6957, 53.3458, 844.1627]\n",
      "epoch 59   loss = [742.5215, 689.3213, 53.20017, 845.32904]\n",
      "epoch 59   loss = [741.1177, 689.4928, 51.624893, 844.498]\n",
      "epoch 60   loss = [741.18054, 689.14514, 52.03543, 846.50287]\n",
      "epoch 60   loss = [740.3975, 689.667, 50.730534, 843.3619]\n",
      "epoch 61   loss = [743.1151, 689.18896, 53.92615, 846.6255]\n",
      "epoch 61   loss = [738.51276, 689.44336, 49.06942, 843.2455]\n",
      "epoch 62   loss = [738.2818, 689.3606, 48.921204, 845.26337]\n",
      "epoch 62   loss = [739.5821, 689.4342, 50.14788, 844.6397]\n",
      "epoch 63   loss = [740.99506, 689.36554, 51.62953, 844.42]\n",
      "epoch 63   loss = [734.25714, 689.2749, 44.982216, 845.4457]\n",
      "epoch 64   loss = [737.4872, 689.3462, 48.141, 846.10693]\n",
      "epoch 64   loss = [737.8006, 688.7168, 49.08378, 843.8108]\n",
      "epoch 65   loss = [736.8947, 688.8042, 48.090515, 845.2709]\n",
      "epoch 65   loss = [740.34045, 688.96045, 51.379997, 844.7235]\n",
      "epoch 66   loss = [735.9187, 689.4713, 46.44738, 844.1991]\n",
      "epoch 66   loss = [738.10394, 689.6395, 48.464405, 845.81476]\n",
      "epoch 67   loss = [737.02515, 688.69543, 48.32974, 842.28455]\n",
      "epoch 67   loss = [736.5501, 689.198, 47.35211, 847.72296]\n"
     ]
    },
    {
     "name": "stdout",
     "output_type": "stream",
     "text": [
      "epoch 68   loss = [736.5045, 688.66614, 47.83835, 843.38794]\n",
      "epoch 68   loss = [728.3835, 689.09485, 39.288612, 846.59973]\n",
      "epoch 69   loss = [733.8062, 688.94556, 44.860657, 845.0332]\n",
      "epoch 69   loss = [734.54626, 689.2057, 45.340557, 844.9385]\n",
      "epoch 70   loss = [732.65717, 689.0006, 43.65654, 843.8828]\n",
      "epoch 70   loss = [732.3957, 689.1426, 43.25313, 846.2783]\n",
      "epoch 71   loss = [735.87103, 689.0759, 46.795113, 845.11755]\n",
      "epoch 71   loss = [731.6221, 688.6156, 43.006493, 844.8513]\n",
      "epoch 72   loss = [731.673, 688.9503, 42.722626, 845.1708]\n",
      "epoch 72   loss = [730.51843, 688.86304, 41.65542, 844.90826]\n",
      "epoch 73   loss = [730.15204, 688.73254, 41.41951, 846.07263]\n",
      "epoch 73   loss = [726.10944, 689.13257, 36.97684, 844.0471]\n",
      "epoch 74   loss = [727.7316, 688.7661, 38.965515, 843.1204]\n",
      "epoch 74   loss = [729.61487, 688.0608, 41.554077, 847.04]\n",
      "epoch 75   loss = [727.22253, 689.0608, 38.161766, 843.4336]\n",
      "epoch 75   loss = [733.0252, 688.83813, 44.1871, 846.62115]\n",
      "epoch 76   loss = [727.9349, 689.2289, 38.70598, 844.629]\n",
      "epoch 76   loss = [728.44507, 688.9098, 39.535275, 845.2954]\n",
      "epoch 77   loss = [728.7329, 688.5635, 40.16945, 843.7987]\n",
      "epoch 77   loss = [728.15515, 688.4132, 39.741943, 846.29584]\n",
      "epoch 78   loss = [726.32153, 689.01825, 37.3033, 848.7916]\n",
      "epoch 78   loss = [726.9867, 688.817, 38.169685, 841.1714]\n",
      "epoch 79   loss = [726.56586, 688.96716, 37.59867, 846.7917]\n",
      "epoch 79   loss = [724.94293, 689.24243, 35.700478, 843.28766]\n",
      "epoch 80   loss = [722.03864, 688.56934, 33.469315, 844.1357]\n",
      "epoch 80   loss = [724.7656, 688.313, 36.452667, 845.99194]\n",
      "epoch 81   loss = [723.27905, 689.1323, 34.14676, 846.2266]\n",
      "epoch 81   loss = [725.4443, 689.1283, 36.315998, 843.8252]\n",
      "epoch 82   loss = [727.86774, 688.9094, 38.958317, 845.2365]\n",
      "epoch 82   loss = [728.69507, 688.6433, 40.051758, 844.7602]\n",
      "epoch 83   loss = [722.7901, 688.95905, 33.83108, 848.0905]\n",
      "epoch 83   loss = [726.37286, 688.9027, 37.47017, 841.8608]\n",
      "epoch 84   loss = [724.9092, 689.1698, 35.73938, 842.44037]\n",
      "epoch 84   loss = [724.7751, 689.0233, 35.751778, 847.5708]\n",
      "epoch 85   loss = [723.6953, 689.2728, 34.422466, 845.4362]\n",
      "epoch 85   loss = [723.2691, 689.03516, 34.233974, 844.44196]\n",
      "epoch 86   loss = [722.578, 688.64636, 33.931618, 846.8872]\n",
      "epoch 86   loss = [720.61456, 688.99506, 31.61953, 843.0384]\n",
      "epoch 87   loss = [725.4029, 689.4005, 36.002357, 845.82764]\n",
      "epoch 87   loss = [719.9729, 688.41907, 31.55383, 844.1134]\n",
      "epoch 88   loss = [718.91797, 688.04224, 30.875706, 846.2121]\n",
      "epoch 88   loss = [719.8902, 688.3302, 31.560005, 843.70886]\n",
      "epoch 89   loss = [721.5116, 689.10913, 32.402485, 847.0129]\n",
      "epoch 89   loss = [722.3029, 688.65796, 33.64495, 842.96265]\n",
      "epoch 90   loss = [721.89453, 688.96985, 32.924675, 844.87823]\n",
      "epoch 90   loss = [717.81256, 688.8423, 28.970297, 845.08344]\n",
      "epoch 91   loss = [718.4799, 688.91064, 29.569288, 844.6904]\n",
      "epoch 91   loss = [719.3779, 688.57825, 30.799664, 845.3501]\n",
      "epoch 92   loss = [723.23895, 688.4464, 34.79253, 845.68036]\n",
      "epoch 92   loss = [721.6667, 688.6128, 33.053917, 844.31494]\n",
      "epoch 93   loss = [718.5559, 688.5145, 30.04138, 846.27734]\n",
      "epoch 93   loss = [718.0946, 688.56946, 29.52515, 843.784]\n",
      "epoch 94   loss = [719.8654, 688.6154, 31.250002, 844.6793]\n",
      "epoch 94   loss = [716.34314, 688.61926, 27.723866, 845.34924]\n",
      "epoch 95   loss = [719.3723, 688.57117, 30.801147, 843.59814]\n",
      "epoch 95   loss = [717.39526, 688.19507, 29.200188, 846.4134]\n",
      "epoch 96   loss = [718.24744, 688.495, 29.752449, 847.0827]\n",
      "epoch 96   loss = [714.4613, 688.39465, 26.066654, 842.82733]\n",
      "epoch 97   loss = [721.4396, 689.0126, 32.427013, 844.69354]\n",
      "epoch 97   loss = [714.8034, 688.5763, 26.227087, 845.2705]\n",
      "epoch 98   loss = [715.6394, 688.53284, 27.106554, 844.4095]\n",
      "epoch 98   loss = [720.6687, 688.9625, 31.706171, 845.5576]\n",
      "epoch 99   loss = [718.3123, 688.5692, 29.74311, 845.9667]\n",
      "epoch 99   loss = [716.5065, 688.46765, 28.038795, 843.91223]\n",
      "Elapsed:  15.980087041854858\n"
     ]
    }
   ],
   "source": [
    "sample_size = 10\n",
    "start = time.time()\n",
    "print('Fitting with sample_size: {}'.format(sample_size))\n",
    "\n",
    "history = fit_model(X_others, X, y, epochs=epochs)\n",
    "\n"
   ]
  },
  {
   "cell_type": "markdown",
   "metadata": {},
   "source": [
    "## load test images"
   ]
  },
  {
   "cell_type": "code",
   "execution_count": 21,
   "metadata": {},
   "outputs": [
    {
     "name": "stdout",
     "output_type": "stream",
     "text": [
      "(3063, 4764, 3) (3063, 4764)\n",
      "(3666, 20, 20, 3) 3666\n"
     ]
    }
   ],
   "source": [
    "# load test images with index\n",
    "stride = 10\n",
    "X_test = []\n",
    "X_test_idx = []\n",
    "image = cv2.imread(os.path.join(data_path, image_name))\n",
    "mask = cv2.imread(os.path.join(data_path, mask_name+'_label.jpeg'), 0) / 255\n",
    "print(image.shape, mask.shape)\n",
    "\n",
    "for row in range(0,mask.shape[0]-img_rows,stride):\n",
    "    for col in range(0,mask.shape[1]-img_rows,stride):\n",
    "        sub_mask = mask[row:row+img_rows, col:col+img_rows]\n",
    "        if np.count_nonzero(sub_mask) == img_rows*img_rows:\n",
    "            sub_img = image[row:row+img_rows, col:col+img_rows]\n",
    "            X_test.append(sub_img)\n",
    "            X_test_idx.append([row,col])\n",
    "            \n",
    "X_test = np.array(X_test) / 255.0\n",
    "print(X_test.shape, len(X_test_idx))"
   ]
  },
  {
   "cell_type": "code",
   "execution_count": 22,
   "metadata": {},
   "outputs": [
    {
     "name": "stdout",
     "output_type": "stream",
     "text": [
      "(3666,)\n"
     ]
    }
   ],
   "source": [
    "classifier = Model(inputs=[x_in], outputs=[_y_output])\n",
    "\n",
    "y_pred = np.argmax(classifier.predict(X_test), axis=-1)\n",
    "\n",
    "print(y_pred.shape)"
   ]
  },
  {
   "cell_type": "code",
   "execution_count": 23,
   "metadata": {},
   "outputs": [
    {
     "name": "stdout",
     "output_type": "stream",
     "text": [
      "744 2922\n"
     ]
    }
   ],
   "source": [
    "pred_pos_idx, pred_neg_idx = [], []\n",
    "\n",
    "for i in range(y_pred.shape[0]):\n",
    "    if y_pred[i] == 0:\n",
    "        pred_neg_idx.append(X_test_idx[i])\n",
    "    else:\n",
    "        pred_pos_idx.append(X_test_idx[i])\n",
    "        \n",
    "print(len(pred_pos_idx), len(pred_neg_idx))"
   ]
  },
  {
   "cell_type": "markdown",
   "metadata": {},
   "source": [
    "## generate point-level prediction results"
   ]
  },
  {
   "cell_type": "code",
   "execution_count": 24,
   "metadata": {},
   "outputs": [
    {
     "name": "stdout",
     "output_type": "stream",
     "text": [
      "save the point-level prediction results in %s ./data/xview/322_car_1_points_pred.txt\n"
     ]
    }
   ],
   "source": [
    "# save the positive point-level prediction resuls as a txt file\n",
    "save_file_name = mask_name+'_points_pred.txt'\n",
    "save_file_path = os.path.join(data_path, save_file_name)\n",
    "pred_center_points = []\n",
    "for i in pred_pos_idx:\n",
    "    x, y = i[0], i[1]\n",
    "    x_c, y_c = int(x+img_rows/2), int(y+img_rows/2)\n",
    "    pred_center_points.append([x_c,y_c])\n",
    "\n",
    "pred_center_points = np.array(pred_center_points)\n",
    "np.savetxt(save_file_path, pred_center_points, fmt='%d', delimiter=',')\n",
    "print('save the point-level prediction results in ',save_file_path)"
   ]
  },
  {
   "cell_type": "markdown",
   "metadata": {},
   "source": [
    "## generate patch-level prediction map"
   ]
  },
  {
   "cell_type": "code",
   "execution_count": 25,
   "metadata": {},
   "outputs": [
    {
     "data": {
      "text/plain": [
       "True"
      ]
     },
     "execution_count": 25,
     "metadata": {},
     "output_type": "execute_result"
    }
   ],
   "source": [
    "pred_map = np.zeros(mask.shape)\n",
    "\n",
    "for i in pred_pos_idx:\n",
    "    x, y = i[0], i[1]\n",
    "    pred_map[x:x+img_rows, y:y+img_rows] = 255\n",
    "\n",
    "pred_path = os.path.join(data_path, mask_name+'_pred.jpeg')\n",
    "cv2.imwrite(pred_path, pred_map)\n",
    "print('save the patch-level prediction results in ',pred_path)"
   ]
  },
  {
   "cell_type": "markdown",
   "metadata": {
    "collapsed": true
   },
   "source": [
    "## generate point-level prediction map for visualization"
   ]
  },
  {
   "cell_type": "code",
   "execution_count": 26,
   "metadata": {},
   "outputs": [
    {
     "data": {
      "text/plain": [
       "True"
      ]
     },
     "execution_count": 26,
     "metadata": {},
     "output_type": "execute_result"
    }
   ],
   "source": [
    "import copy\n",
    "\n",
    "radius = 1\n",
    "# Blue color in BGR\n",
    "color = (0, 0, 255)\n",
    "# Line thickness of 2 px\n",
    "thickness=2\n",
    "\n",
    "pred_points_map = copy.deepcopy(image)\n",
    "for i in pred_pos_idx:\n",
    "    x, y = i[0], i[1]\n",
    "    x_c, y_c = int(x+img_rows/2), int(y+img_rows/2)\n",
    "    pred_points_map = cv2.circle(pred_points_map, (y_c,x_c), radius, color, thickness)\n",
    "\n",
    "pred_points_path = os.path.join(data_path, mask_name+'_pred_points.jpeg')\n",
    "cv2.imwrite(pred_points_path, pred_points_map)"
   ]
  },
  {
   "cell_type": "code",
   "execution_count": null,
   "metadata": {
    "collapsed": true
   },
   "outputs": [],
   "source": []
  }
 ],
 "metadata": {
  "kernelspec": {
   "display_name": "Python 3",
   "language": "python",
   "name": "python3"
  },
  "language_info": {
   "codemirror_mode": {
    "name": "ipython",
    "version": 3
   },
   "file_extension": ".py",
   "mimetype": "text/x-python",
   "name": "python",
   "nbconvert_exporter": "python",
   "pygments_lexer": "ipython3",
   "version": "3.5.2"
  }
 },
 "nbformat": 4,
 "nbformat_minor": 2
}
